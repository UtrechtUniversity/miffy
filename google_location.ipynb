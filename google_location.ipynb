{
 "cells": [
  {
   "cell_type": "markdown",
   "metadata": {},
   "source": [
    "# Workflow example 1:  To what extent are you a global citizen? "
   ]
  },
  {
   "cell_type": "markdown",
   "metadata": {},
   "source": [
    "### Steps ###\n",
    "0. **Formulate Research Question**\n",
    "1. **Determine which variable should be computed to answer RQ**\n",
    "2. **Select raw data source**\n",
    "3. **List available information in raw data source**\n",
    "4. **Select required information to compute variable**\n",
    "5. **Compute variable**\n",
    "6. **Send result**\n",
    "____________________________________________________________________________________________________________"
   ]
  },
  {
   "cell_type": "code",
   "execution_count": 1,
   "metadata": {},
   "outputs": [],
   "source": [
    "import json\n",
    "import os\n",
    "import pandas as pd\n",
    "import numpy as np\n",
    "import matplotlib.pyplot as plt\n",
    "from datetime import datetime as dt\n",
    "from pathlib import Path\n",
    "import reverse_geocoder as rg"
   ]
  },
  {
   "cell_type": "code",
   "execution_count": 2,
   "metadata": {},
   "outputs": [],
   "source": [
    "#proj_lib = Path.home().joinpath('anaconda3','share','proj')\n",
    "proj_lib = '/home/mgdevos/anaconda3/share/proj'\n",
    "os.environ['PROJ_LIB'] = str(proj_lib)\n",
    "from mpl_toolkits.basemap import Basemap"
   ]
  },
  {
   "cell_type": "markdown",
   "metadata": {},
   "source": [
    "### 0. Research Question\n",
    "\n",
    "--> To what extent are you a global citizen?"
   ]
  },
  {
   "cell_type": "markdown",
   "metadata": {},
   "source": [
    "### 1. Variable\n",
    "\n",
    "* Number of cities visited over time\n",
    "* Distance traveled over time"
   ]
  },
  {
   "cell_type": "markdown",
   "metadata": {},
   "source": [
    "### 2. Raw data source\n",
    "\n",
    "_TODO: Interface to support the selection of suitable raw data source_\n",
    "\n",
    "--> Google Location History"
   ]
  },
  {
   "cell_type": "markdown",
   "metadata": {},
   "source": [
    "### 3. List available information\n",
    "\n",
    "--> Google Location History"
   ]
  },
  {
   "cell_type": "markdown",
   "metadata": {},
   "source": [
    "**Load data set**"
   ]
  },
  {
   "cell_type": "code",
   "execution_count": 3,
   "metadata": {},
   "outputs": [],
   "source": [
    "one_drive = Path('/media/sf_vos00076/OneDrive - Universiteit Utrecht')\n",
    "data_dir = one_drive / Path('Projects', 'data_donation','data')"
   ]
  },
  {
   "cell_type": "code",
   "execution_count": 4,
   "metadata": {},
   "outputs": [],
   "source": [
    "json_file = data_dir / Path('Location History', 'Location History.json')"
   ]
  },
  {
   "cell_type": "code",
   "execution_count": 5,
   "metadata": {},
   "outputs": [],
   "source": [
    "with open(json_file) as f:\n",
    "    data =json.loads(f.read())"
   ]
  },
  {
   "cell_type": "code",
   "execution_count": 6,
   "metadata": {},
   "outputs": [],
   "source": [
    "df = pd.DataFrame(data['locations'])"
   ]
  },
  {
   "cell_type": "markdown",
   "metadata": {},
   "source": [
    "### 4. Select required information\n",
    "\n",
    "_TODO: Abovementioned interface should also support selection information_"
   ]
  },
  {
   "cell_type": "code",
   "execution_count": 7,
   "metadata": {},
   "outputs": [],
   "source": [
    "df_gps = pd.read_json(json_file)"
   ]
  },
  {
   "cell_type": "code",
   "execution_count": 8,
   "metadata": {},
   "outputs": [
    {
     "data": {
      "text/html": [
       "<div>\n",
       "<style scoped>\n",
       "    .dataframe tbody tr th:only-of-type {\n",
       "        vertical-align: middle;\n",
       "    }\n",
       "\n",
       "    .dataframe tbody tr th {\n",
       "        vertical-align: top;\n",
       "    }\n",
       "\n",
       "    .dataframe thead th {\n",
       "        text-align: right;\n",
       "    }\n",
       "</style>\n",
       "<table border=\"1\" class=\"dataframe\">\n",
       "  <thead>\n",
       "    <tr style=\"text-align: right;\">\n",
       "      <th></th>\n",
       "      <th>locations</th>\n",
       "    </tr>\n",
       "  </thead>\n",
       "  <tbody>\n",
       "    <tr>\n",
       "      <td>0</td>\n",
       "      <td>{'timestampMs': '1397133815401', 'latitudeE7':...</td>\n",
       "    </tr>\n",
       "    <tr>\n",
       "      <td>1</td>\n",
       "      <td>{'timestampMs': '1397133865013', 'latitudeE7':...</td>\n",
       "    </tr>\n",
       "    <tr>\n",
       "      <td>2</td>\n",
       "      <td>{'timestampMs': '1397133925137', 'latitudeE7':...</td>\n",
       "    </tr>\n",
       "    <tr>\n",
       "      <td>3</td>\n",
       "      <td>{'timestampMs': '1397133986640', 'latitudeE7':...</td>\n",
       "    </tr>\n",
       "    <tr>\n",
       "      <td>4</td>\n",
       "      <td>{'timestampMs': '1397134046643', 'latitudeE7':...</td>\n",
       "    </tr>\n",
       "  </tbody>\n",
       "</table>\n",
       "</div>"
      ],
      "text/plain": [
       "                                           locations\n",
       "0  {'timestampMs': '1397133815401', 'latitudeE7':...\n",
       "1  {'timestampMs': '1397133865013', 'latitudeE7':...\n",
       "2  {'timestampMs': '1397133925137', 'latitudeE7':...\n",
       "3  {'timestampMs': '1397133986640', 'latitudeE7':...\n",
       "4  {'timestampMs': '1397134046643', 'latitudeE7':..."
      ]
     },
     "execution_count": 8,
     "metadata": {},
     "output_type": "execute_result"
    }
   ],
   "source": [
    "df_gps.head()"
   ]
  },
  {
   "cell_type": "code",
   "execution_count": 9,
   "metadata": {},
   "outputs": [],
   "source": [
    "# parse lat, lon, and timestamp from the dict inside the locations column\n",
    "df_gps['lat'] = df_gps['locations'].map(lambda x: x['latitudeE7'])\n",
    "df_gps['lon'] = df_gps['locations'].map(lambda x: x['longitudeE7'])\n",
    "df_gps['timestamp_ms'] = df_gps['locations'].map(lambda x: x['timestampMs'])"
   ]
  },
  {
   "cell_type": "code",
   "execution_count": 10,
   "metadata": {},
   "outputs": [],
   "source": [
    "# convert lat/lon to decimalized degrees and the timestamp to date-time\n",
    "df_gps['lat'] = df_gps['lat'] / 10.**7\n",
    "df_gps['lon'] = df_gps['lon'] / 10.**7\n",
    "df_gps['timestamp_ms'] = df_gps['timestamp_ms'].astype(float) / 1000\n",
    "df_gps['datetime'] = df_gps['timestamp_ms'].map(lambda x: dt.fromtimestamp(x).strftime('%Y-%m-%d %H:%M:%S'))\n",
    "date_range = '{}-{}'.format(df_gps['datetime'].min()[:4], df_gps['datetime'].max()[:4])"
   ]
  },
  {
   "cell_type": "code",
   "execution_count": 11,
   "metadata": {},
   "outputs": [],
   "source": [
    "# drop columns we don't need\n",
    "df_gps = df_gps.drop(labels=['locations', 'timestamp_ms'], axis=1, inplace=False)"
   ]
  },
  {
   "cell_type": "code",
   "execution_count": 12,
   "metadata": {},
   "outputs": [],
   "source": [
    "# Convert date-time to appr format + set as index to facilitate time-series manipulations\n",
    "df_gps['dt_datetime'] = pd.to_datetime(df_gps['datetime'])\n",
    "df_gps = df_gps.set_index(['dt_datetime'])\n",
    "df_gps.drop(['datetime'],axis=1,inplace=True)"
   ]
  },
  {
   "cell_type": "code",
   "execution_count": 13,
   "metadata": {},
   "outputs": [
    {
     "name": "stdout",
     "output_type": "stream",
     "text": [
      "Loading formatted geocoded file...\n"
     ]
    }
   ],
   "source": [
    "df_gps['address'] = rg.search(list(zip(df_gps['lat'].values,df_gps['lon'].values)))"
   ]
  },
  {
   "cell_type": "code",
   "execution_count": 14,
   "metadata": {},
   "outputs": [],
   "source": [
    "df_gps['country'] = df_gps['address'].map(lambda x: x['cc'])\n",
    "df_gps['city'] = df_gps['address'].map(lambda x: x['name'])\n",
    "df_gps.drop(['address'],axis=1,inplace=True)"
   ]
  },
  {
   "cell_type": "code",
   "execution_count": 15,
   "metadata": {},
   "outputs": [
    {
     "data": {
      "text/html": [
       "<div>\n",
       "<style scoped>\n",
       "    .dataframe tbody tr th:only-of-type {\n",
       "        vertical-align: middle;\n",
       "    }\n",
       "\n",
       "    .dataframe tbody tr th {\n",
       "        vertical-align: top;\n",
       "    }\n",
       "\n",
       "    .dataframe thead th {\n",
       "        text-align: right;\n",
       "    }\n",
       "</style>\n",
       "<table border=\"1\" class=\"dataframe\">\n",
       "  <thead>\n",
       "    <tr style=\"text-align: right;\">\n",
       "      <th></th>\n",
       "      <th>lat</th>\n",
       "      <th>lon</th>\n",
       "      <th>country</th>\n",
       "      <th>city</th>\n",
       "    </tr>\n",
       "    <tr>\n",
       "      <th>dt_datetime</th>\n",
       "      <th></th>\n",
       "      <th></th>\n",
       "      <th></th>\n",
       "      <th></th>\n",
       "    </tr>\n",
       "  </thead>\n",
       "  <tbody>\n",
       "    <tr>\n",
       "      <td>2014-04-10 14:43:35</td>\n",
       "      <td>52.616619</td>\n",
       "      <td>4.623173</td>\n",
       "      <td>NL</td>\n",
       "      <td>Egmond aan Zee</td>\n",
       "    </tr>\n",
       "    <tr>\n",
       "      <td>2014-04-10 14:44:25</td>\n",
       "      <td>52.616636</td>\n",
       "      <td>4.623175</td>\n",
       "      <td>NL</td>\n",
       "      <td>Egmond aan Zee</td>\n",
       "    </tr>\n",
       "    <tr>\n",
       "      <td>2014-04-10 14:45:25</td>\n",
       "      <td>52.616623</td>\n",
       "      <td>4.623125</td>\n",
       "      <td>NL</td>\n",
       "      <td>Egmond aan Zee</td>\n",
       "    </tr>\n",
       "    <tr>\n",
       "      <td>2014-04-10 14:46:26</td>\n",
       "      <td>52.616603</td>\n",
       "      <td>4.623285</td>\n",
       "      <td>NL</td>\n",
       "      <td>Egmond aan Zee</td>\n",
       "    </tr>\n",
       "    <tr>\n",
       "      <td>2014-04-10 14:47:26</td>\n",
       "      <td>52.616626</td>\n",
       "      <td>4.623207</td>\n",
       "      <td>NL</td>\n",
       "      <td>Egmond aan Zee</td>\n",
       "    </tr>\n",
       "  </tbody>\n",
       "</table>\n",
       "</div>"
      ],
      "text/plain": [
       "                           lat       lon country            city\n",
       "dt_datetime                                                     \n",
       "2014-04-10 14:43:35  52.616619  4.623173      NL  Egmond aan Zee\n",
       "2014-04-10 14:44:25  52.616636  4.623175      NL  Egmond aan Zee\n",
       "2014-04-10 14:45:25  52.616623  4.623125      NL  Egmond aan Zee\n",
       "2014-04-10 14:46:26  52.616603  4.623285      NL  Egmond aan Zee\n",
       "2014-04-10 14:47:26  52.616626  4.623207      NL  Egmond aan Zee"
      ]
     },
     "execution_count": 15,
     "metadata": {},
     "output_type": "execute_result"
    }
   ],
   "source": [
    "df_gps.head()"
   ]
  },
  {
   "cell_type": "markdown",
   "metadata": {},
   "source": [
    "### 5. Compute variable\n"
   ]
  },
  {
   "cell_type": "markdown",
   "metadata": {},
   "source": [
    "**Number visited locations over time**"
   ]
  },
  {
   "cell_type": "code",
   "execution_count": 16,
   "metadata": {},
   "outputs": [],
   "source": [
    "first = df_gps.index[0]\n",
    "last = df_gps.index[-1]\n",
    "timespan = last-first"
   ]
  },
  {
   "cell_type": "code",
   "execution_count": 18,
   "metadata": {},
   "outputs": [],
   "source": [
    "cities = df_gps.groupby(['city']).city.agg('count')"
   ]
  },
  {
   "cell_type": "code",
   "execution_count": 19,
   "metadata": {},
   "outputs": [],
   "source": [
    "countries = df_gps.groupby(['country']).country.agg('count')"
   ]
  },
  {
   "cell_type": "code",
   "execution_count": 20,
   "metadata": {},
   "outputs": [
    {
     "data": {
      "text/plain": [
       "'You have visited 368 cities in 8 countries over a period of 1757 days'"
      ]
     },
     "execution_count": 20,
     "metadata": {},
     "output_type": "execute_result"
    }
   ],
   "source": [
    "\"You have visited {} cities in {} countries over a period of {} days\"\\\n",
    ".format(cities.size,countries.size,timespan.days)"
   ]
  }
 ],
 "metadata": {
  "kernelspec": {
   "display_name": "Python 3",
   "language": "python",
   "name": "python3"
  },
  "language_info": {
   "codemirror_mode": {
    "name": "ipython",
    "version": 3
   },
   "file_extension": ".py",
   "mimetype": "text/x-python",
   "name": "python",
   "nbconvert_exporter": "python",
   "pygments_lexer": "ipython3",
   "version": "3.7.4"
  }
 },
 "nbformat": 4,
 "nbformat_minor": 2
}
