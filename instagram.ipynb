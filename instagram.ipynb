{
 "cells": [
  {
   "cell_type": "markdown",
   "metadata": {},
   "source": [
    "# Workflow example:  To what extent are you a positive person? "
   ]
  },
  {
   "cell_type": "markdown",
   "metadata": {},
   "source": [
    "### Steps ###\n",
    "0. **Formulate Research Question**\n",
    "1. **Determine which variable should be computed to answer RQ**\n",
    "2. **Select raw data source**\n",
    "3. **List available information in raw data source**\n",
    "4. **Select required information to compute variable**\n",
    "5. **Compute variable**\n",
    "6. **Send result**\n",
    "____________________________________________________________________________________________________________"
   ]
  },
  {
   "cell_type": "code",
   "execution_count": 1,
   "metadata": {},
   "outputs": [],
   "source": [
    "import json\n",
    "import pandas as pd\n",
    "from pathlib import Path\n",
    "import numpy as np\n",
    "import emojis\n",
    "import emoji\n",
    "import regex\n",
    "import matplotlib.pyplot as plt"
   ]
  },
  {
   "cell_type": "markdown",
   "metadata": {},
   "source": [
    "### 0. Research Question\n",
    "\n",
    "--> To what extent are you a positive or negative person?"
   ]
  },
  {
   "cell_type": "markdown",
   "metadata": {},
   "source": [
    "### 1. Variable\n",
    "\n",
    "* How many emoji's have you used in your posts? Development over time?\n",
    "* Were these positive or negative emoji's? Development over time?"
   ]
  },
  {
   "cell_type": "markdown",
   "metadata": {},
   "source": [
    "### 2. Raw data source\n",
    "\n",
    "--> Instagram"
   ]
  },
  {
   "cell_type": "markdown",
   "metadata": {},
   "source": [
    "### 3. List available information\n",
    "\n",
    "--> comments, media (stories, photos, videos), messages"
   ]
  },
  {
   "cell_type": "markdown",
   "metadata": {},
   "source": [
    "**Set path**"
   ]
  },
  {
   "cell_type": "code",
   "execution_count": 2,
   "metadata": {},
   "outputs": [],
   "source": [
    "project = Path('C:/Users/Roos/Documents/Trainee.nl/Opdrachten/UU/Miffy/insta')\n",
    "data = project /'datadownload'"
   ]
  },
  {
   "cell_type": "code",
   "execution_count": 3,
   "metadata": {},
   "outputs": [],
   "source": [
    "json_file_com = data / 'comments.json'\n",
    "json_file_med = data / 'media.json'\n",
    "json_file_mes = data / 'messages.json'"
   ]
  },
  {
   "cell_type": "markdown",
   "metadata": {},
   "source": [
    "**Load Media file**"
   ]
  },
  {
   "cell_type": "code",
   "execution_count": 4,
   "metadata": {},
   "outputs": [],
   "source": [
    "# Load media.json\n",
    "with open(json_file_med, encoding = \"utf8\") as json_media:\n",
    "    media = json.load(json_media)\n",
    "    \n",
    "media = pd.DataFrame.from_dict(media, \n",
    "        orient = 'index').T "
   ]
  },
  {
   "cell_type": "code",
   "execution_count": 5,
   "metadata": {},
   "outputs": [],
   "source": [
    "# Generate separate DataFrames for the different lists (i.e., stories, photos, videos) in media\n",
    "stories_media = pd.DataFrame(media['stories'].dropna().values.tolist())\n",
    "photos_media  = pd.DataFrame(media['photos'].dropna().values.tolist())\n",
    "profile_media = pd.DataFrame(media['profile'].dropna().values.tolist())\n",
    "videos_media  = pd.DataFrame(media['videos'].dropna().values.tolist())\n",
    "direct_media  = pd.DataFrame(media['direct'].dropna().values.tolist())"
   ]
  },
  {
   "cell_type": "markdown",
   "metadata": {},
   "source": [
    "**Load Comments file**"
   ]
  },
  {
   "cell_type": "code",
   "execution_count": 6,
   "metadata": {},
   "outputs": [],
   "source": [
    "# Load comments.json\n",
    "with open(json_file_com, encoding = \"utf8\") as json_comments:\n",
    "        comments = json.load(json_comments)\n",
    "\n",
    "comments = pd.DataFrame.from_dict(comments, \n",
    "                                      orient = 'index').T "
   ]
  },
  {
   "cell_type": "code",
   "execution_count": 22,
   "metadata": {},
   "outputs": [],
   "source": [
    "# Generate dataframe from media comments \n",
    "media_comments = pd.DataFrame(comments['media_comments'].dropna().values.tolist())"
   ]
  },
  {
   "cell_type": "markdown",
   "metadata": {},
   "source": [
    "**Load Messages file**"
   ]
  },
  {
   "cell_type": "code",
   "execution_count": 23,
   "metadata": {},
   "outputs": [],
   "source": [
    "# Load messages.json\n",
    "with open(json_file_mes, encoding = \"utf8\") as json_messages:\n",
    "    message = json.load(json_messages)\n",
    "\n",
    "messages = pd.DataFrame.from_dict(message[1], \n",
    "                                          orient = 'index').T\n",
    "for i in range(2, len(message)):\n",
    "    # Create dataframe    \n",
    "    messages = messages.append(pd.DataFrame.from_dict(message[i], \n",
    "                                          orient = 'index').T)\n"
   ]
  },
  {
   "cell_type": "code",
   "execution_count": 24,
   "metadata": {},
   "outputs": [],
   "source": [
    "# Generate dataframe from message conversation \n",
    "messages_conversation = pd.DataFrame(messages['conversation'].dropna().values.tolist())"
   ]
  },
  {
   "cell_type": "markdown",
   "metadata": {},
   "source": [
    "**Select relevant information**"
   ]
  },
  {
   "cell_type": "code",
   "execution_count": 25,
   "metadata": {},
   "outputs": [],
   "source": [
    "# Function to extract emojis\n",
    "def split_count(text):\n",
    "\n",
    "    emoji_list = []\n",
    "    data = regex.findall(r'\\X', text)\n",
    "    for word in data:\n",
    "        if any(char in emoji.UNICODE_EMOJI for char in word):\n",
    "            emoji_list.append(word)\n",
    "\n",
    "    return emoji_list"
   ]
  },
  {
   "cell_type": "markdown",
   "metadata": {},
   "source": [
    "*Media files*: only stories, videos and photos contain emojis. Stories (photos/videos that are only available for 24hours), photos (posts on own page with a photo format), videos (posts on own page with a video format)."
   ]
  },
  {
   "cell_type": "code",
   "execution_count": 26,
   "metadata": {},
   "outputs": [
    {
     "data": {
      "text/html": [
       "<div>\n",
       "<style scoped>\n",
       "    .dataframe tbody tr th:only-of-type {\n",
       "        vertical-align: middle;\n",
       "    }\n",
       "\n",
       "    .dataframe tbody tr th {\n",
       "        vertical-align: top;\n",
       "    }\n",
       "\n",
       "    .dataframe thead th {\n",
       "        text-align: right;\n",
       "    }\n",
       "</style>\n",
       "<table border=\"1\" class=\"dataframe\">\n",
       "  <thead>\n",
       "    <tr style=\"text-align: right;\">\n",
       "      <th></th>\n",
       "      <th>time</th>\n",
       "      <th>emoticon</th>\n",
       "      <th>count</th>\n",
       "    </tr>\n",
       "  </thead>\n",
       "  <tbody>\n",
       "    <tr>\n",
       "      <td>0</td>\n",
       "      <td>2020-03-06T10:52:18+00:00</td>\n",
       "      <td>[🐒, 🦁, 🦍, 🐆, 🐖, 🐫, 🦘, 🦒, 🐘, 🦇, 🐧, 🦅, 🦉, 🦚, 🐊, 🐠]</td>\n",
       "      <td>16</td>\n",
       "    </tr>\n",
       "    <tr>\n",
       "      <td>1</td>\n",
       "      <td>2020-03-06T10:52:18+00:00</td>\n",
       "      <td>[🐒, 🦁, 🦍, 🐆, 🐖, 🐫, 🦘, 🦒, 🐘, 🦇, 🐧, 🦅, 🦉, 🦚, 🐊, 🐠]</td>\n",
       "      <td>16</td>\n",
       "    </tr>\n",
       "    <tr>\n",
       "      <td>2</td>\n",
       "      <td>2020-03-06T10:52:18+00:00</td>\n",
       "      <td>[🐒, 🦁, 🦍, 🐆, 🐖, 🐫, 🦘, 🦒, 🐘, 🦇, 🐧, 🦅, 🦉, 🦚, 🐊, 🐠]</td>\n",
       "      <td>16</td>\n",
       "    </tr>\n",
       "    <tr>\n",
       "      <td>3</td>\n",
       "      <td>2020-03-06T10:52:18+00:00</td>\n",
       "      <td>[🐒, 🦁, 🦍, 🐆, 🐖, 🐫, 🦘, 🦒, 🐘, 🦇, 🐧, 🦅, 🦉, 🦚, 🐊, 🐠]</td>\n",
       "      <td>16</td>\n",
       "    </tr>\n",
       "    <tr>\n",
       "      <td>4</td>\n",
       "      <td>2020-01-21T13:40:28+00:00</td>\n",
       "      <td>[🌍, 🧘‍♀️]</td>\n",
       "      <td>2</td>\n",
       "    </tr>\n",
       "  </tbody>\n",
       "</table>\n",
       "</div>"
      ],
      "text/plain": [
       "                        time  \\\n",
       "0  2020-03-06T10:52:18+00:00   \n",
       "1  2020-03-06T10:52:18+00:00   \n",
       "2  2020-03-06T10:52:18+00:00   \n",
       "3  2020-03-06T10:52:18+00:00   \n",
       "4  2020-01-21T13:40:28+00:00   \n",
       "\n",
       "                                           emoticon  count  \n",
       "0  [🐒, 🦁, 🦍, 🐆, 🐖, 🐫, 🦘, 🦒, 🐘, 🦇, 🐧, 🦅, 🦉, 🦚, 🐊, 🐠]     16  \n",
       "1  [🐒, 🦁, 🦍, 🐆, 🐖, 🐫, 🦘, 🦒, 🐘, 🦇, 🐧, 🦅, 🦉, 🦚, 🐊, 🐠]     16  \n",
       "2  [🐒, 🦁, 🦍, 🐆, 🐖, 🐫, 🦘, 🦒, 🐘, 🦇, 🐧, 🦅, 🦉, 🦚, 🐊, 🐠]     16  \n",
       "3  [🐒, 🦁, 🦍, 🐆, 🐖, 🐫, 🦘, 🦒, 🐘, 🦇, 🐧, 🦅, 🦉, 🦚, 🐊, 🐠]     16  \n",
       "4                                         [🌍, 🧘‍♀️]      2  "
      ]
     },
     "execution_count": 26,
     "metadata": {},
     "output_type": "execute_result"
    }
   ],
   "source": [
    "# Extract emoticons in posts (photos)\n",
    "photos = []\n",
    "\n",
    "for i in range(0,len(photos_media['caption'])):\n",
    "    \n",
    "    text = str(photos_media['caption'][i])\n",
    "    time = str(photos_media['taken_at'][i])\n",
    "    \n",
    "    emoticons = split_count(text)\n",
    "    \n",
    "    if len(emoticons) > 0:\n",
    "        phot_dic = {}\n",
    "        phot_dic['time'] = time\n",
    "        phot_dic['emoticon'] = emoticons\n",
    "        phot_dic['count'] = len(emoticons)\n",
    "        photos.append(phot_dic) \n",
    "\n",
    "# Dictionary\n",
    "photos\n",
    "\n",
    "# Dataframe\n",
    "dataframe_photos = pd.DataFrame(photos, columns=['time', 'emoticon', 'count'])\n",
    "dataframe_photos.head()"
   ]
  },
  {
   "cell_type": "code",
   "execution_count": 27,
   "metadata": {},
   "outputs": [
    {
     "data": {
      "text/html": [
       "<div>\n",
       "<style scoped>\n",
       "    .dataframe tbody tr th:only-of-type {\n",
       "        vertical-align: middle;\n",
       "    }\n",
       "\n",
       "    .dataframe tbody tr th {\n",
       "        vertical-align: top;\n",
       "    }\n",
       "\n",
       "    .dataframe thead th {\n",
       "        text-align: right;\n",
       "    }\n",
       "</style>\n",
       "<table border=\"1\" class=\"dataframe\">\n",
       "  <thead>\n",
       "    <tr style=\"text-align: right;\">\n",
       "      <th></th>\n",
       "      <th>time</th>\n",
       "      <th>emoticon</th>\n",
       "      <th>count</th>\n",
       "    </tr>\n",
       "  </thead>\n",
       "  <tbody>\n",
       "    <tr>\n",
       "      <td>0</td>\n",
       "      <td>2019-10-16T23:55:52+00:00</td>\n",
       "      <td>[👋, 💤, 🌎, 🌞, ⬇️, 🌌, 🌜, ⬆️, 🌠, 💖]</td>\n",
       "      <td>10</td>\n",
       "    </tr>\n",
       "  </tbody>\n",
       "</table>\n",
       "</div>"
      ],
      "text/plain": [
       "                        time                          emoticon  count\n",
       "0  2019-10-16T23:55:52+00:00  [👋, 💤, 🌎, 🌞, ⬇️, 🌌, 🌜, ⬆️, 🌠, 💖]     10"
      ]
     },
     "execution_count": 27,
     "metadata": {},
     "output_type": "execute_result"
    }
   ],
   "source": [
    "# Extract emoticons in posts (videos)\n",
    "videos = []\n",
    "\n",
    "for i in range(0,len(videos_media['caption'])):\n",
    "    \n",
    "    text = str(videos_media['caption'][i])\n",
    "    time = str(videos_media['taken_at'][i])\n",
    "    \n",
    "    emoticons = split_count(text)\n",
    "    \n",
    "    if len(emoticons) > 0:\n",
    "        vid_dic = {}\n",
    "        vid_dic['time'] = time\n",
    "        vid_dic['emoticon'] = emoticons\n",
    "        vid_dic['count'] = len(emoticons)\n",
    "        videos.append(vid_dic) \n",
    "\n",
    "# Dictionary\n",
    "videos\n",
    "\n",
    "# Dataframe\n",
    "dataframe_videos = pd.DataFrame(videos, columns=['time', 'emoticon', 'count'])\n",
    "dataframe_videos.head()"
   ]
  },
  {
   "cell_type": "code",
   "execution_count": 28,
   "metadata": {},
   "outputs": [
    {
     "data": {
      "text/html": [
       "<div>\n",
       "<style scoped>\n",
       "    .dataframe tbody tr th:only-of-type {\n",
       "        vertical-align: middle;\n",
       "    }\n",
       "\n",
       "    .dataframe tbody tr th {\n",
       "        vertical-align: top;\n",
       "    }\n",
       "\n",
       "    .dataframe thead th {\n",
       "        text-align: right;\n",
       "    }\n",
       "</style>\n",
       "<table border=\"1\" class=\"dataframe\">\n",
       "  <thead>\n",
       "    <tr style=\"text-align: right;\">\n",
       "      <th></th>\n",
       "      <th>time</th>\n",
       "      <th>emoticon</th>\n",
       "      <th>count</th>\n",
       "    </tr>\n",
       "  </thead>\n",
       "  <tbody>\n",
       "    <tr>\n",
       "      <td>0</td>\n",
       "      <td>2020-04-11T18:07:23+00:00</td>\n",
       "      <td>[👋]</td>\n",
       "      <td>1</td>\n",
       "    </tr>\n",
       "    <tr>\n",
       "      <td>1</td>\n",
       "      <td>2020-04-02T16:29:13+00:00</td>\n",
       "      <td>[👋]</td>\n",
       "      <td>1</td>\n",
       "    </tr>\n",
       "    <tr>\n",
       "      <td>2</td>\n",
       "      <td>2020-02-05T16:36:50+00:00</td>\n",
       "      <td>[🙄]</td>\n",
       "      <td>1</td>\n",
       "    </tr>\n",
       "    <tr>\n",
       "      <td>3</td>\n",
       "      <td>2020-01-22T14:52:11+00:00</td>\n",
       "      <td>[😬, 😳]</td>\n",
       "      <td>2</td>\n",
       "    </tr>\n",
       "    <tr>\n",
       "      <td>4</td>\n",
       "      <td>2019-10-04T02:19:26+00:00</td>\n",
       "      <td>[🤯]</td>\n",
       "      <td>1</td>\n",
       "    </tr>\n",
       "  </tbody>\n",
       "</table>\n",
       "</div>"
      ],
      "text/plain": [
       "                        time emoticon  count\n",
       "0  2020-04-11T18:07:23+00:00      [👋]      1\n",
       "1  2020-04-02T16:29:13+00:00      [👋]      1\n",
       "2  2020-02-05T16:36:50+00:00      [🙄]      1\n",
       "3  2020-01-22T14:52:11+00:00   [😬, 😳]      2\n",
       "4  2019-10-04T02:19:26+00:00      [🤯]      1"
      ]
     },
     "execution_count": 28,
     "metadata": {},
     "output_type": "execute_result"
    }
   ],
   "source": [
    "# Extract emoticon in stories\n",
    "stories = []\n",
    "\n",
    "for i in range(0,len(stories_media['caption'])):\n",
    "    \n",
    "    text = str(stories_media['caption'][i])\n",
    "    time = str(stories_media['taken_at'][i])\n",
    "    \n",
    "    emoticons = split_count(text)\n",
    "    \n",
    "    if len(emoticons) > 0:\n",
    "        stor_dic = {}\n",
    "        stor_dic['time'] = time\n",
    "        stor_dic['emoticon'] = emoticons\n",
    "        stor_dic['count'] = len(emoticons)\n",
    "        stories.append(stor_dic) \n",
    "\n",
    "# Dictionary\n",
    "stories\n",
    "\n",
    "# Dataframe\n",
    "dataframe_stories = pd.DataFrame(stories, columns=['time', 'emoticon', 'count'])\n",
    "dataframe_stories.head()"
   ]
  },
  {
   "cell_type": "code",
   "execution_count": 45,
   "metadata": {},
   "outputs": [
    {
     "data": {
      "text/html": [
       "<div>\n",
       "<style scoped>\n",
       "    .dataframe tbody tr th:only-of-type {\n",
       "        vertical-align: middle;\n",
       "    }\n",
       "\n",
       "    .dataframe tbody tr th {\n",
       "        vertical-align: top;\n",
       "    }\n",
       "\n",
       "    .dataframe thead th {\n",
       "        text-align: right;\n",
       "    }\n",
       "</style>\n",
       "<table border=\"1\" class=\"dataframe\">\n",
       "  <thead>\n",
       "    <tr style=\"text-align: right;\">\n",
       "      <th></th>\n",
       "      <th>time</th>\n",
       "      <th>emoticon</th>\n",
       "      <th>count</th>\n",
       "    </tr>\n",
       "  </thead>\n",
       "  <tbody>\n",
       "    <tr>\n",
       "      <td>0</td>\n",
       "      <td>2020-03-06T10:52:18+00:00</td>\n",
       "      <td>[🐒, 🦁, 🦍, 🐆, 🐖, 🐫, 🦘, 🦒, 🐘, 🦇, 🐧, 🦅, 🦉, 🦚, 🐊, 🐠]</td>\n",
       "      <td>16</td>\n",
       "    </tr>\n",
       "    <tr>\n",
       "      <td>1</td>\n",
       "      <td>2020-03-06T10:52:18+00:00</td>\n",
       "      <td>[🐒, 🦁, 🦍, 🐆, 🐖, 🐫, 🦘, 🦒, 🐘, 🦇, 🐧, 🦅, 🦉, 🦚, 🐊, 🐠]</td>\n",
       "      <td>16</td>\n",
       "    </tr>\n",
       "    <tr>\n",
       "      <td>2</td>\n",
       "      <td>2020-03-06T10:52:18+00:00</td>\n",
       "      <td>[🐒, 🦁, 🦍, 🐆, 🐖, 🐫, 🦘, 🦒, 🐘, 🦇, 🐧, 🦅, 🦉, 🦚, 🐊, 🐠]</td>\n",
       "      <td>16</td>\n",
       "    </tr>\n",
       "    <tr>\n",
       "      <td>3</td>\n",
       "      <td>2020-03-06T10:52:18+00:00</td>\n",
       "      <td>[🐒, 🦁, 🦍, 🐆, 🐖, 🐫, 🦘, 🦒, 🐘, 🦇, 🐧, 🦅, 🦉, 🦚, 🐊, 🐠]</td>\n",
       "      <td>16</td>\n",
       "    </tr>\n",
       "    <tr>\n",
       "      <td>4</td>\n",
       "      <td>2020-01-21T13:40:28+00:00</td>\n",
       "      <td>[🌍, 🧘‍♀️]</td>\n",
       "      <td>2</td>\n",
       "    </tr>\n",
       "  </tbody>\n",
       "</table>\n",
       "</div>"
      ],
      "text/plain": [
       "                        time  \\\n",
       "0  2020-03-06T10:52:18+00:00   \n",
       "1  2020-03-06T10:52:18+00:00   \n",
       "2  2020-03-06T10:52:18+00:00   \n",
       "3  2020-03-06T10:52:18+00:00   \n",
       "4  2020-01-21T13:40:28+00:00   \n",
       "\n",
       "                                           emoticon  count  \n",
       "0  [🐒, 🦁, 🦍, 🐆, 🐖, 🐫, 🦘, 🦒, 🐘, 🦇, 🐧, 🦅, 🦉, 🦚, 🐊, 🐠]     16  \n",
       "1  [🐒, 🦁, 🦍, 🐆, 🐖, 🐫, 🦘, 🦒, 🐘, 🦇, 🐧, 🦅, 🦉, 🦚, 🐊, 🐠]     16  \n",
       "2  [🐒, 🦁, 🦍, 🐆, 🐖, 🐫, 🦘, 🦒, 🐘, 🦇, 🐧, 🦅, 🦉, 🦚, 🐊, 🐠]     16  \n",
       "3  [🐒, 🦁, 🦍, 🐆, 🐖, 🐫, 🦘, 🦒, 🐘, 🦇, 🐧, 🦅, 🦉, 🦚, 🐊, 🐠]     16  \n",
       "4                                         [🌍, 🧘‍♀️]      2  "
      ]
     },
     "execution_count": 45,
     "metadata": {},
     "output_type": "execute_result"
    }
   ],
   "source": [
    "# Combine all media emoticons\n",
    "media_emoticons = dataframe_photos.append(dataframe_videos)\n",
    "media_emoticons = media_emoticons.append(dataframe_stories)\n",
    "media_emoticons = media_emoticons.reset_index(drop=True)\n",
    "media_emoticons.head()"
   ]
  },
  {
   "cell_type": "markdown",
   "metadata": {},
   "source": [
    "*Comments*: comments on (other people's) posts"
   ]
  },
  {
   "cell_type": "code",
   "execution_count": 30,
   "metadata": {},
   "outputs": [],
   "source": [
    "# Create dataframe with own comments\n",
    "user = \"roosvoor\" #Enter username\n",
    "\n",
    "own_comments = pd.DataFrame(media_comments[media_comments[2] == user])\n",
    "own_comments = own_comments.reset_index(drop=True)\n",
    "own_comments = own_comments.rename(columns={0: 'taken_at', 1:'caption', 2:'user'})"
   ]
  },
  {
   "cell_type": "code",
   "execution_count": 33,
   "metadata": {},
   "outputs": [
    {
     "data": {
      "text/html": [
       "<div>\n",
       "<style scoped>\n",
       "    .dataframe tbody tr th:only-of-type {\n",
       "        vertical-align: middle;\n",
       "    }\n",
       "\n",
       "    .dataframe tbody tr th {\n",
       "        vertical-align: top;\n",
       "    }\n",
       "\n",
       "    .dataframe thead th {\n",
       "        text-align: right;\n",
       "    }\n",
       "</style>\n",
       "<table border=\"1\" class=\"dataframe\">\n",
       "  <thead>\n",
       "    <tr style=\"text-align: right;\">\n",
       "      <th></th>\n",
       "      <th>time</th>\n",
       "      <th>emoticon</th>\n",
       "      <th>count</th>\n",
       "    </tr>\n",
       "  </thead>\n",
       "  <tbody>\n",
       "    <tr>\n",
       "      <td>0</td>\n",
       "      <td>2019-10-17T02:22:22+00:00</td>\n",
       "      <td>[🙌]</td>\n",
       "      <td>1</td>\n",
       "    </tr>\n",
       "    <tr>\n",
       "      <td>1</td>\n",
       "      <td>2019-05-06T16:56:19+00:00</td>\n",
       "      <td>[😬]</td>\n",
       "      <td>1</td>\n",
       "    </tr>\n",
       "    <tr>\n",
       "      <td>2</td>\n",
       "      <td>2019-05-06T16:56:00+00:00</td>\n",
       "      <td>[😊]</td>\n",
       "      <td>1</td>\n",
       "    </tr>\n",
       "    <tr>\n",
       "      <td>3</td>\n",
       "      <td>2019-05-06T16:07:28+00:00</td>\n",
       "      <td>[🙄, 🙄, 🙄]</td>\n",
       "      <td>3</td>\n",
       "    </tr>\n",
       "    <tr>\n",
       "      <td>4</td>\n",
       "      <td>2018-10-18T14:43:05+00:00</td>\n",
       "      <td>[🙌]</td>\n",
       "      <td>1</td>\n",
       "    </tr>\n",
       "  </tbody>\n",
       "</table>\n",
       "</div>"
      ],
      "text/plain": [
       "                        time   emoticon  count\n",
       "0  2019-10-17T02:22:22+00:00        [🙌]      1\n",
       "1  2019-05-06T16:56:19+00:00        [😬]      1\n",
       "2  2019-05-06T16:56:00+00:00        [😊]      1\n",
       "3  2019-05-06T16:07:28+00:00  [🙄, 🙄, 🙄]      3\n",
       "4  2018-10-18T14:43:05+00:00        [🙌]      1"
      ]
     },
     "execution_count": 33,
     "metadata": {},
     "output_type": "execute_result"
    }
   ],
   "source": [
    "commentaar = []\n",
    "\n",
    "for i in range(0,len(own_comments['caption'])):\n",
    "    \n",
    "    text = str(own_comments['caption'][i])\n",
    "    time = str(own_comments['taken_at'][i])\n",
    "    \n",
    "    emoticons = split_count(text)\n",
    "    \n",
    "    if len(emoticons) > 0:\n",
    "        com_dic = {}\n",
    "        com_dic['time'] = time\n",
    "        com_dic['emoticon'] = emoticons\n",
    "        com_dic['count'] = len(emoticons)\n",
    "        commentaar.append(com_dic) \n",
    "\n",
    "# Dictionary\n",
    "commentaar\n",
    "\n",
    "# Dataframe\n",
    "dataframe_comments = pd.DataFrame(commentaar, columns=['time', 'emoticon', 'count'])\n",
    "dataframe_comments.head()"
   ]
  },
  {
   "cell_type": "markdown",
   "metadata": {},
   "source": [
    "*Messages*: personal text messages with other instagram users"
   ]
  },
  {
   "cell_type": "code",
   "execution_count": 34,
   "metadata": {},
   "outputs": [
    {
     "data": {
      "text/html": [
       "<div>\n",
       "<style scoped>\n",
       "    .dataframe tbody tr th:only-of-type {\n",
       "        vertical-align: middle;\n",
       "    }\n",
       "\n",
       "    .dataframe tbody tr th {\n",
       "        vertical-align: top;\n",
       "    }\n",
       "\n",
       "    .dataframe thead th {\n",
       "        text-align: right;\n",
       "    }\n",
       "</style>\n",
       "<table border=\"1\" class=\"dataframe\">\n",
       "  <thead>\n",
       "    <tr style=\"text-align: right;\">\n",
       "      <th></th>\n",
       "      <th>sender</th>\n",
       "      <th>created_at</th>\n",
       "      <th>story_share</th>\n",
       "      <th>text</th>\n",
       "      <th>media_owner</th>\n",
       "      <th>media_share_caption</th>\n",
       "      <th>media_share_url</th>\n",
       "      <th>mentioned_username</th>\n",
       "      <th>media</th>\n",
       "      <th>video_call_action</th>\n",
       "      <th>...</th>\n",
       "      <th>animated_media_images</th>\n",
       "      <th>is_random</th>\n",
       "      <th>user</th>\n",
       "      <th>action</th>\n",
       "      <th>story_share_type</th>\n",
       "      <th>heart</th>\n",
       "      <th>voice_media</th>\n",
       "      <th>link</th>\n",
       "      <th>profile_share_username</th>\n",
       "      <th>profile_share_name</th>\n",
       "    </tr>\n",
       "  </thead>\n",
       "  <tbody>\n",
       "    <tr>\n",
       "      <td>0</td>\n",
       "      <td>roosvoor</td>\n",
       "      <td>2020-04-11T18:42:49.818832+00:00</td>\n",
       "      <td>Shared beertjelohman's story</td>\n",
       "      <td>Haha lekkaahh</td>\n",
       "      <td>NaN</td>\n",
       "      <td>NaN</td>\n",
       "      <td>NaN</td>\n",
       "      <td>NaN</td>\n",
       "      <td>NaN</td>\n",
       "      <td>NaN</td>\n",
       "      <td>...</td>\n",
       "      <td>NaN</td>\n",
       "      <td>NaN</td>\n",
       "      <td>NaN</td>\n",
       "      <td>NaN</td>\n",
       "      <td>NaN</td>\n",
       "      <td>NaN</td>\n",
       "      <td>NaN</td>\n",
       "      <td>NaN</td>\n",
       "      <td>NaN</td>\n",
       "      <td>NaN</td>\n",
       "    </tr>\n",
       "    <tr>\n",
       "      <td>1</td>\n",
       "      <td>roosvoor</td>\n",
       "      <td>2019-12-29T15:05:47.218007+00:00</td>\n",
       "      <td>NaN</td>\n",
       "      <td>Maar kan dus alleen maar beter wordn 💪🎉</td>\n",
       "      <td>NaN</td>\n",
       "      <td>NaN</td>\n",
       "      <td>NaN</td>\n",
       "      <td>NaN</td>\n",
       "      <td>NaN</td>\n",
       "      <td>NaN</td>\n",
       "      <td>...</td>\n",
       "      <td>NaN</td>\n",
       "      <td>NaN</td>\n",
       "      <td>NaN</td>\n",
       "      <td>NaN</td>\n",
       "      <td>NaN</td>\n",
       "      <td>NaN</td>\n",
       "      <td>NaN</td>\n",
       "      <td>NaN</td>\n",
       "      <td>NaN</td>\n",
       "      <td>NaN</td>\n",
       "    </tr>\n",
       "    <tr>\n",
       "      <td>2</td>\n",
       "      <td>roosvoor</td>\n",
       "      <td>2019-12-29T15:05:16.606476+00:00</td>\n",
       "      <td>NaN</td>\n",
       "      <td>Lekker begin 😅</td>\n",
       "      <td>NaN</td>\n",
       "      <td>NaN</td>\n",
       "      <td>NaN</td>\n",
       "      <td>NaN</td>\n",
       "      <td>NaN</td>\n",
       "      <td>NaN</td>\n",
       "      <td>...</td>\n",
       "      <td>NaN</td>\n",
       "      <td>NaN</td>\n",
       "      <td>NaN</td>\n",
       "      <td>NaN</td>\n",
       "      <td>NaN</td>\n",
       "      <td>NaN</td>\n",
       "      <td>NaN</td>\n",
       "      <td>NaN</td>\n",
       "      <td>NaN</td>\n",
       "      <td>NaN</td>\n",
       "    </tr>\n",
       "    <tr>\n",
       "      <td>3</td>\n",
       "      <td>roosvoor</td>\n",
       "      <td>2019-12-29T15:04:52.273959+00:00</td>\n",
       "      <td>NaN</td>\n",
       "      <td>Haha o nooooo</td>\n",
       "      <td>NaN</td>\n",
       "      <td>NaN</td>\n",
       "      <td>NaN</td>\n",
       "      <td>NaN</td>\n",
       "      <td>NaN</td>\n",
       "      <td>NaN</td>\n",
       "      <td>...</td>\n",
       "      <td>NaN</td>\n",
       "      <td>NaN</td>\n",
       "      <td>NaN</td>\n",
       "      <td>NaN</td>\n",
       "      <td>NaN</td>\n",
       "      <td>NaN</td>\n",
       "      <td>NaN</td>\n",
       "      <td>NaN</td>\n",
       "      <td>NaN</td>\n",
       "      <td>NaN</td>\n",
       "    </tr>\n",
       "    <tr>\n",
       "      <td>4</td>\n",
       "      <td>roosvoor</td>\n",
       "      <td>2019-12-29T09:19:44.654836+00:00</td>\n",
       "      <td>NaN</td>\n",
       "      <td>Hopelijk is de rest van de reis wel voorspoedi...</td>\n",
       "      <td>NaN</td>\n",
       "      <td>NaN</td>\n",
       "      <td>NaN</td>\n",
       "      <td>NaN</td>\n",
       "      <td>NaN</td>\n",
       "      <td>NaN</td>\n",
       "      <td>...</td>\n",
       "      <td>NaN</td>\n",
       "      <td>NaN</td>\n",
       "      <td>NaN</td>\n",
       "      <td>NaN</td>\n",
       "      <td>NaN</td>\n",
       "      <td>NaN</td>\n",
       "      <td>NaN</td>\n",
       "      <td>NaN</td>\n",
       "      <td>NaN</td>\n",
       "      <td>NaN</td>\n",
       "    </tr>\n",
       "  </tbody>\n",
       "</table>\n",
       "<p>5 rows × 21 columns</p>\n",
       "</div>"
      ],
      "text/plain": [
       "     sender                        created_at                   story_share  \\\n",
       "0  roosvoor  2020-04-11T18:42:49.818832+00:00  Shared beertjelohman's story   \n",
       "1  roosvoor  2019-12-29T15:05:47.218007+00:00                           NaN   \n",
       "2  roosvoor  2019-12-29T15:05:16.606476+00:00                           NaN   \n",
       "3  roosvoor  2019-12-29T15:04:52.273959+00:00                           NaN   \n",
       "4  roosvoor  2019-12-29T09:19:44.654836+00:00                           NaN   \n",
       "\n",
       "                                                text media_owner  \\\n",
       "0                                      Haha lekkaahh         NaN   \n",
       "1            Maar kan dus alleen maar beter wordn 💪🎉         NaN   \n",
       "2                                     Lekker begin 😅         NaN   \n",
       "3                                      Haha o nooooo         NaN   \n",
       "4  Hopelijk is de rest van de reis wel voorspoedi...         NaN   \n",
       "\n",
       "  media_share_caption media_share_url mentioned_username media  \\\n",
       "0                 NaN             NaN                NaN   NaN   \n",
       "1                 NaN             NaN                NaN   NaN   \n",
       "2                 NaN             NaN                NaN   NaN   \n",
       "3                 NaN             NaN                NaN   NaN   \n",
       "4                 NaN             NaN                NaN   NaN   \n",
       "\n",
       "  video_call_action  ... animated_media_images is_random user action  \\\n",
       "0               NaN  ...                   NaN       NaN  NaN    NaN   \n",
       "1               NaN  ...                   NaN       NaN  NaN    NaN   \n",
       "2               NaN  ...                   NaN       NaN  NaN    NaN   \n",
       "3               NaN  ...                   NaN       NaN  NaN    NaN   \n",
       "4               NaN  ...                   NaN       NaN  NaN    NaN   \n",
       "\n",
       "  story_share_type heart voice_media link profile_share_username  \\\n",
       "0              NaN   NaN         NaN  NaN                    NaN   \n",
       "1              NaN   NaN         NaN  NaN                    NaN   \n",
       "2              NaN   NaN         NaN  NaN                    NaN   \n",
       "3              NaN   NaN         NaN  NaN                    NaN   \n",
       "4              NaN   NaN         NaN  NaN                    NaN   \n",
       "\n",
       "  profile_share_name  \n",
       "0                NaN  \n",
       "1                NaN  \n",
       "2                NaN  \n",
       "3                NaN  \n",
       "4                NaN  \n",
       "\n",
       "[5 rows x 21 columns]"
      ]
     },
     "execution_count": 34,
     "metadata": {},
     "output_type": "execute_result"
    }
   ],
   "source": [
    "user = \"roosvoor\" #Enter username\n",
    "\n",
    "own_messages = pd.DataFrame(messages_conversation[messages_conversation['sender'] == user])\n",
    "own_messages = own_messages.reset_index(drop=True)\n",
    "own_messages.head()"
   ]
  },
  {
   "cell_type": "code",
   "execution_count": 35,
   "metadata": {},
   "outputs": [
    {
     "data": {
      "text/html": [
       "<div>\n",
       "<style scoped>\n",
       "    .dataframe tbody tr th:only-of-type {\n",
       "        vertical-align: middle;\n",
       "    }\n",
       "\n",
       "    .dataframe tbody tr th {\n",
       "        vertical-align: top;\n",
       "    }\n",
       "\n",
       "    .dataframe thead th {\n",
       "        text-align: right;\n",
       "    }\n",
       "</style>\n",
       "<table border=\"1\" class=\"dataframe\">\n",
       "  <thead>\n",
       "    <tr style=\"text-align: right;\">\n",
       "      <th></th>\n",
       "      <th>time</th>\n",
       "      <th>emoticon</th>\n",
       "      <th>count</th>\n",
       "    </tr>\n",
       "  </thead>\n",
       "  <tbody>\n",
       "    <tr>\n",
       "      <td>0</td>\n",
       "      <td>2019-12-29T15:05:47.218007+00:00</td>\n",
       "      <td>[💪, 🎉]</td>\n",
       "      <td>2</td>\n",
       "    </tr>\n",
       "    <tr>\n",
       "      <td>1</td>\n",
       "      <td>2019-12-29T15:05:16.606476+00:00</td>\n",
       "      <td>[😅]</td>\n",
       "      <td>1</td>\n",
       "    </tr>\n",
       "    <tr>\n",
       "      <td>2</td>\n",
       "      <td>2019-12-29T09:19:44.654836+00:00</td>\n",
       "      <td>[😬]</td>\n",
       "      <td>1</td>\n",
       "    </tr>\n",
       "    <tr>\n",
       "      <td>3</td>\n",
       "      <td>2018-07-17T06:37:27.007343+00:00</td>\n",
       "      <td>[😎, ❤️, 👌, 👌, 👌]</td>\n",
       "      <td>5</td>\n",
       "    </tr>\n",
       "    <tr>\n",
       "      <td>4</td>\n",
       "      <td>2020-03-12T12:06:57.514490+00:00</td>\n",
       "      <td>[🔥]</td>\n",
       "      <td>1</td>\n",
       "    </tr>\n",
       "  </tbody>\n",
       "</table>\n",
       "</div>"
      ],
      "text/plain": [
       "                               time          emoticon  count\n",
       "0  2019-12-29T15:05:47.218007+00:00            [💪, 🎉]      2\n",
       "1  2019-12-29T15:05:16.606476+00:00               [😅]      1\n",
       "2  2019-12-29T09:19:44.654836+00:00               [😬]      1\n",
       "3  2018-07-17T06:37:27.007343+00:00  [😎, ❤️, 👌, 👌, 👌]      5\n",
       "4  2020-03-12T12:06:57.514490+00:00               [🔥]      1"
      ]
     },
     "execution_count": 35,
     "metadata": {},
     "output_type": "execute_result"
    }
   ],
   "source": [
    "messages = []\n",
    "\n",
    "for i in range(0,len(own_messages['text'])):\n",
    "    \n",
    "    text = str(own_messages['text'][i])\n",
    "    time = str(own_messages['created_at'][i])\n",
    "    \n",
    "    emoticons = split_count(text)\n",
    "    \n",
    "    if len(emoticons) > 0:\n",
    "        mes_dic = {}\n",
    "        mes_dic['time'] = time\n",
    "        mes_dic['emoticon'] = emoticons\n",
    "        mes_dic['count'] = len(emoticons)\n",
    "        messages.append(mes_dic) \n",
    "\n",
    "# Dictionary\n",
    "messages\n",
    "\n",
    "# Dataframe\n",
    "dataframe_messages = pd.DataFrame(messages, columns=['time', 'emoticon', 'count'])\n",
    "dataframe_messages.head()"
   ]
  },
  {
   "cell_type": "markdown",
   "metadata": {},
   "source": [
    "**All emotions from all sources together**"
   ]
  },
  {
   "cell_type": "code",
   "execution_count": 47,
   "metadata": {},
   "outputs": [
    {
     "data": {
      "text/html": [
       "<div>\n",
       "<style scoped>\n",
       "    .dataframe tbody tr th:only-of-type {\n",
       "        vertical-align: middle;\n",
       "    }\n",
       "\n",
       "    .dataframe tbody tr th {\n",
       "        vertical-align: top;\n",
       "    }\n",
       "\n",
       "    .dataframe thead th {\n",
       "        text-align: right;\n",
       "    }\n",
       "</style>\n",
       "<table border=\"1\" class=\"dataframe\">\n",
       "  <thead>\n",
       "    <tr style=\"text-align: right;\">\n",
       "      <th></th>\n",
       "      <th>time</th>\n",
       "      <th>emoticon</th>\n",
       "      <th>count</th>\n",
       "    </tr>\n",
       "  </thead>\n",
       "  <tbody>\n",
       "    <tr>\n",
       "      <td>0</td>\n",
       "      <td>2019-12-29T15:05:47.218007+00:00</td>\n",
       "      <td>[💪, 🎉]</td>\n",
       "      <td>2</td>\n",
       "    </tr>\n",
       "    <tr>\n",
       "      <td>1</td>\n",
       "      <td>2019-12-29T15:05:16.606476+00:00</td>\n",
       "      <td>[😅]</td>\n",
       "      <td>1</td>\n",
       "    </tr>\n",
       "    <tr>\n",
       "      <td>2</td>\n",
       "      <td>2019-12-29T09:19:44.654836+00:00</td>\n",
       "      <td>[😬]</td>\n",
       "      <td>1</td>\n",
       "    </tr>\n",
       "    <tr>\n",
       "      <td>3</td>\n",
       "      <td>2018-07-17T06:37:27.007343+00:00</td>\n",
       "      <td>[😎, ❤️, 👌, 👌, 👌]</td>\n",
       "      <td>5</td>\n",
       "    </tr>\n",
       "    <tr>\n",
       "      <td>4</td>\n",
       "      <td>2020-03-12T12:06:57.514490+00:00</td>\n",
       "      <td>[🔥]</td>\n",
       "      <td>1</td>\n",
       "    </tr>\n",
       "  </tbody>\n",
       "</table>\n",
       "</div>"
      ],
      "text/plain": [
       "                               time          emoticon  count\n",
       "0  2019-12-29T15:05:47.218007+00:00            [💪, 🎉]      2\n",
       "1  2019-12-29T15:05:16.606476+00:00               [😅]      1\n",
       "2  2019-12-29T09:19:44.654836+00:00               [😬]      1\n",
       "3  2018-07-17T06:37:27.007343+00:00  [😎, ❤️, 👌, 👌, 👌]      5\n",
       "4  2020-03-12T12:06:57.514490+00:00               [🔥]      1"
      ]
     },
     "execution_count": 47,
     "metadata": {},
     "output_type": "execute_result"
    }
   ],
   "source": [
    "# Combine all dataframes\n",
    "insta_emoticons = dataframe_messages.append(dataframe_comments)\n",
    "insta_emoticons = insta_emoticons.append(media_emoticons)\n",
    "insta_emoticons = insta_emoticons.reset_index(drop=True)\n",
    "\n",
    "insta_emoticons.head()"
   ]
  },
  {
   "cell_type": "markdown",
   "metadata": {},
   "source": [
    "*Summary:* There are 222 different posts, messages and comments containing 469 emoticons. "
   ]
  },
  {
   "cell_type": "code",
   "execution_count": 48,
   "metadata": {},
   "outputs": [
    {
     "data": {
      "text/plain": [
       "222"
      ]
     },
     "execution_count": 48,
     "metadata": {},
     "output_type": "execute_result"
    }
   ],
   "source": [
    "# Number of posts\n",
    "len(insta_emoticons)"
   ]
  },
  {
   "cell_type": "code",
   "execution_count": 49,
   "metadata": {},
   "outputs": [
    {
     "data": {
      "text/plain": [
       "469"
      ]
     },
     "execution_count": 49,
     "metadata": {},
     "output_type": "execute_result"
    }
   ],
   "source": [
    "# Number of posts\n",
    "sum(insta_emoticons['count'])"
   ]
  },
  {
   "cell_type": "markdown",
   "metadata": {},
   "source": [
    "**Plot emoji usage**"
   ]
  },
  {
   "cell_type": "code",
   "execution_count": 50,
   "metadata": {},
   "outputs": [
    {
     "data": {
      "image/png": "[encoded data removed]",
      "text/plain": [
       "<Figure size 432x288 with 1 Axes>"
      ]
     },
     "metadata": {
      "needs_background": "light"
     },
     "output_type": "display_data"
    }
   ],
   "source": [
    "plt.plot(insta_emoticons['time'], insta_emoticons['count'])\n",
    "plt.xlabel('Date')\n",
    "plt.ylabel('Number of emojis')\n",
    "plt.title('Number of used emojis per day')\n",
    "plt.show() "
   ]
  },
  {
   "cell_type": "code",
   "execution_count": null,
   "metadata": {},
   "outputs": [],
   "source": []
  }
 ],
 "metadata": {
  "kernelspec": {
   "display_name": "Python 3",
   "language": "python",
   "name": "python3"
  },
  "language_info": {
   "codemirror_mode": {
    "name": "ipython",
    "version": 3
   },
   "file_extension": ".py",
   "mimetype": "text/x-python",
   "name": "python",
   "nbconvert_exporter": "python",
   "pygments_lexer": "ipython3",
   "version": "3.7.4"
  }
 },
 "nbformat": 4,
 "nbformat_minor": 2
}
