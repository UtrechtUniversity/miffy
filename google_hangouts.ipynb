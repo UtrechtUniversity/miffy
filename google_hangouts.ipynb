{
 "cells": [
  {
   "cell_type": "markdown",
   "metadata": {},
   "source": [
    "# Workflow example:  To what extent are you a positive person? "
   ]
  },
  {
   "cell_type": "markdown",
   "metadata": {},
   "source": [
    "### Steps ###\n",
    "0. **Formulate Research Question**\n",
    "1. **Determine which variable should be computed to answer RQ**\n",
    "2. **Select raw data source**\n",
    "3. **List available information in raw data source**\n",
    "4. **Select required information to compute variable**\n",
    "5. **Compute variable**\n",
    "6. **Send result**\n",
    "____________________________________________________________________________________________________________"
   ]
  },
  {
   "cell_type": "code",
   "execution_count": 1,
   "metadata": {},
   "outputs": [],
   "source": [
    "import json\n",
    "import pandas as pd\n",
    "from pathlib import Path"
   ]
  },
  {
   "cell_type": "markdown",
   "metadata": {},
   "source": [
    "### 0. Research Question\n",
    "\n",
    "--> To what extent are you a positive or negative person?"
   ]
  },
  {
   "cell_type": "markdown",
   "metadata": {},
   "source": [
    "### 1. Variable\n",
    "\n",
    "* How many emoji's have you used in your posts? Development over time?\n",
    "* Were these positive or negative emoji's? Development over time?"
   ]
  },
  {
   "cell_type": "markdown",
   "metadata": {},
   "source": [
    "### 2. Raw data source\n",
    "\n",
    "_NB Google+, Blogger, Groups and Posts would also be possible data sources_\n",
    "\n",
    "--> Google Hangouts"
   ]
  },
  {
   "cell_type": "markdown",
   "metadata": {},
   "source": [
    "### 3. List available information\n",
    "\n",
    "--> Google Hangouts"
   ]
  },
  {
   "cell_type": "markdown",
   "metadata": {},
   "source": [
    "**Load data set**"
   ]
  },
  {
   "cell_type": "code",
   "execution_count": 5,
   "metadata": {},
   "outputs": [],
   "source": [
    "project = Path('path/to/my/project')\n",
    "data = project /'data' / 'Hangouts'"
   ]
  },
  {
   "cell_type": "code",
   "execution_count": 6,
   "metadata": {},
   "outputs": [],
   "source": [
    "json_file = data / 'Hangouts.json'"
   ]
  },
  {
   "cell_type": "code",
   "execution_count": 8,
   "metadata": {},
   "outputs": [],
   "source": [
    "with open(json_file) as f:\n",
    "    data =json.loads(f.read())"
   ]
  },
  {
   "cell_type": "code",
   "execution_count": 58,
   "metadata": {},
   "outputs": [],
   "source": [
    "messages = []\n",
    "\n",
    "for i in data['conversations']:\n",
    "    conv_dic = {}\n",
    "    conv_dic['conversation_id'] = i['conversation']['conversation_id']\n",
    "    for j in i['events']:\n",
    "        if 'chat_message' in j:\n",
    "            conv_dic['message_content'] = j['chat_message']['message_content']['segment'][0]['text']\n",
    "    messages.append(conv_dic)            "
   ]
  },
  {
   "cell_type": "code",
   "execution_count": 59,
   "metadata": {},
   "outputs": [
    {
     "data": {
      "text/plain": [
       "[{'conversation_id': {'id': 'UgyH5Gu5uZDq8ENPAgZ4AaABAQ'}},\n",
       " {'conversation_id': {'id': 'Ugz5GnUj8c88_rk44Ud4AaABAagBzNSGAw'},\n",
       "  'message_content': 'Laten we chatten via Hangouts'}]"
      ]
     },
     "execution_count": 59,
     "metadata": {},
     "output_type": "execute_result"
    }
   ],
   "source": [
    "messages"
   ]
  },
  {
   "cell_type": "code",
   "execution_count": null,
   "metadata": {},
   "outputs": [],
   "source": []
  }
 ],
 "metadata": {
  "kernelspec": {
   "display_name": "Python 3",
   "language": "python",
   "name": "python3"
  },
  "language_info": {
   "codemirror_mode": {
    "name": "ipython",
    "version": 3
   },
   "file_extension": ".py",
   "mimetype": "text/x-python",
   "name": "python",
   "nbconvert_exporter": "python",
   "pygments_lexer": "ipython3",
   "version": "3.7.4"
  }
 },
 "nbformat": 4,
 "nbformat_minor": 2
}
