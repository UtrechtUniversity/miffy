{
 "cells": [
  {
   "cell_type": "markdown",
   "metadata": {},
   "source": [
    "# Identify and anonymize Personally Identifiable Information #"
   ]
  },
  {
   "cell_type": "code",
   "execution_count": 75,
   "metadata": {},
   "outputs": [],
   "source": [
    "import re\n",
    "import spacy\n",
    "from pathlib import Path"
   ]
  },
  {
   "cell_type": "code",
   "execution_count": 76,
   "metadata": {},
   "outputs": [],
   "source": [
    "# For dutch: spacy.load(\"nl_core_news_sm\")\n",
    "nlp = spacy.load(\"en_core_web_sm\")"
   ]
  },
  {
   "cell_type": "code",
   "execution_count": 77,
   "metadata": {},
   "outputs": [],
   "source": [
    "data = Path('example.txt')"
   ]
  },
  {
   "cell_type": "code",
   "execution_count": 78,
   "metadata": {},
   "outputs": [],
   "source": [
    "with open(data) as f:\n",
    "    my_text = f.read()"
   ]
  },
  {
   "cell_type": "markdown",
   "metadata": {},
   "source": [
    "### Identify PII ###"
   ]
  },
  {
   "cell_type": "markdown",
   "metadata": {},
   "source": [
    "* **name**\n",
    "* **email**\n",
    "* **location**\n",
    "* **phone nr**"
   ]
  },
  {
   "cell_type": "code",
   "execution_count": 79,
   "metadata": {},
   "outputs": [],
   "source": [
    "def get_pii(string):\n",
    "    \"\"\"List all proper nouns, email adresses and phone nrs in a given string\"\"\"\n",
    "    \n",
    "    email_rgx = \"(^[a-zA-Z0-9_.+-]+@[a-zA-Z0-9-]+\\.[a-zA-Z0-9-.]+$)\"\n",
    "    mob_regex = \"(\\d{3}[-\\.\\s]??\\d{3}[-\\.\\s]??\\d{4}|\\(\\d{3}\\)\\s*\\d{3}[-\\.\\s]??\\d{4}|\\d{3}[-\\.\\s]??\\d{4})\"\n",
    "    \n",
    "    processed = nlp(string)\n",
    "    pii = list()\n",
    "    \n",
    "    for token in processed:\n",
    "        if token.pos_ == 'PROPN':\n",
    "            pii.append(token.text)\n",
    "        elif re.search(mob_regex, str(token)):\n",
    "            pii.append(token.text)\n",
    "        elif re.search(email_regex, token.text):\n",
    "            pii.append(token.text)\n",
    "        \n",
    "    return pii"
   ]
  },
  {
   "cell_type": "code",
   "execution_count": 80,
   "metadata": {},
   "outputs": [
    {
     "name": "stdout",
     "output_type": "stream",
     "text": [
      "['Jane', 'Doe', 'Sent', 'Friday', 'September', 'President', 'U.S.', 'U.S.', 'President', 'Donald', 'Trump', 'United', 'States', 'Trump', 'US', 'Willem', 'Post', 'Jerry', 'Christopher', 'Columbus', 'Blvd', 'Philadelphia', '+31612345678', 'Jane']\n"
     ]
    }
   ],
   "source": [
    "print(list_pii(my_text))"
   ]
  }
 ],
 "metadata": {
  "kernelspec": {
   "display_name": "Python 3",
   "language": "python",
   "name": "python3"
  },
  "language_info": {
   "codemirror_mode": {
    "name": "ipython",
    "version": 3
   },
   "file_extension": ".py",
   "mimetype": "text/x-python",
   "name": "python",
   "nbconvert_exporter": "python",
   "pygments_lexer": "ipython3",
   "version": "3.7.4"
  }
 },
 "nbformat": 4,
 "nbformat_minor": 2
}
